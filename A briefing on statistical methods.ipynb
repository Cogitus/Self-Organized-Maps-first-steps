{
 "cells": [
  {
   "cell_type": "markdown",
   "metadata": {},
   "source": [
    "Creating a normal distribution that will be used for our studies in this notebook"
   ]
  },
  {
   "cell_type": "code",
   "execution_count": 6,
   "metadata": {},
   "outputs": [
    {
     "data": {
      "text/plain": [
       "27053.3461691488"
      ]
     },
     "execution_count": 6,
     "metadata": {},
     "output_type": "execute_result"
    }
   ],
   "source": [
    "import numpy as np\n",
    "\n",
    "valores = np.random.normal(27000, 15000, 10000) #here we create a distrbution with a center in 27.000 and with \n",
    "                                                      #standart deviation of 15.000 in 10.000 data points\n",
    "np.mean(valores) #obviously, the resultant mean must be near 27000"
   ]
  },
  {
   "cell_type": "code",
   "execution_count": 7,
   "metadata": {},
   "outputs": [
    {
     "data": {
      "image/png": "[encoded data removed]",
      "text/plain": [
       "<Figure size 432x288 with 1 Axes>"
      ]
     },
     "metadata": {
      "needs_background": "light"
     },
     "output_type": "display_data"
    }
   ],
   "source": [
    "%matplotlib inline\n",
    "import matplotlib.pyplot as plt\n",
    "plt.hist(valores, 50)\n",
    "plt.show()"
   ]
  },
  {
   "cell_type": "code",
   "execution_count": 8,
   "metadata": {},
   "outputs": [
    {
     "data": {
      "text/plain": [
       "27097.710138462677"
      ]
     },
     "execution_count": 8,
     "metadata": {},
     "output_type": "execute_result"
    }
   ],
   "source": [
    "#beacause of the normal distribution of values, when calculating the median, we will get a median also near the central\n",
    "#value of 27.000\n",
    "np.median(valores)"
   ]
  },
  {
   "cell_type": "code",
   "execution_count": 10,
   "metadata": {},
   "outputs": [],
   "source": [
    "#adding an outlier just to see how things get\n",
    "valores = np.append(valores, [1000000000])"
   ]
  },
  {
   "cell_type": "code",
   "execution_count": 12,
   "metadata": {},
   "outputs": [
    {
     "name": "stdout",
     "output_type": "stream",
     "text": [
      "new mean with outlier = 127040.64210493834\n",
      "new median with outlier = 27099.03200429696\n"
     ]
    }
   ],
   "source": [
    "#it's easy to notice that a big change will occur in the mean, but not on the median\n",
    "print(\"new mean with outlier = \" + str(np.mean(valores)))\n",
    "print(\"new median with outlier = \" + str(np.median(valores))"
   ]
  },
  {
   "cell_type": "code",
   "execution_count": 16,
   "metadata": {},
   "outputs": [
    {
     "name": "stdout",
     "output_type": "stream",
     "text": [
      "Median over mean: 0.21330994204132384. That implies that the median is essentially 21.330994204132384% of the mean.\n"
     ]
    }
   ],
   "source": [
    "#just to see how big the mean got\n",
    "print(\"Median over mean: \" + str(np.median(valores)/np.mean(valores)) + \". That implies that the median is essentially \" + str(100*np.median(valores)/np.mean(valores)) + \"% of the mean.\")"
   ]
  },
  {
   "cell_type": "code",
   "execution_count": 19,
   "metadata": {},
   "outputs": [
    {
     "data": {
      "text/plain": [
       "array([43, 20, 68, 37, 89, 20,  2, 18, 20, 57, 59, 34, 46, 82, 37, 96, 54,\n",
       "       13, 45, 99, 32, 85,  8, 29, 78, 27, 23, 82, 43, 30, 91, 19, 17, 88,\n",
       "        5, 53, 51, 44, 32, 30, 36, 47,  7, 44,  0, 73, 29, 93, 48, 16, 11,\n",
       "        6, 23, 86, 52, 41, 11, 97, 92, 99, 19,  6, 90, 23,  5, 78, 83, 51,\n",
       "       69, 48, 81, 94, 72, 86, 27,  5, 49, 78, 74,  2, 91, 67, 39,  6, 46,\n",
       "       96, 89,  6, 73, 36, 40, 97,  8, 65,  7, 83, 26, 22, 90,  9, 93,  4,\n",
       "       52, 71, 71, 88, 38, 56, 11, 57, 68, 91, 47, 68, 68, 90, 53, 32, 73,\n",
       "       56, 71, 30, 74, 53,  2, 67, 35, 65, 14, 69, 23, 42, 24, 58, 96, 43,\n",
       "       46, 54, 36, 72, 35, 26, 24, 17, 66, 16, 93, 56, 44, 39,  8, 51,  7,\n",
       "       92, 39, 82, 69, 25, 75, 70, 59, 14, 19, 67, 75, 91, 24, 83, 44, 56,\n",
       "       92, 81, 64, 50, 81, 74, 67, 94, 67, 27, 75, 66, 82, 89, 51, 77, 13,\n",
       "       21, 48, 14, 96, 60, 67, 40, 52, 13, 61, 61, 21, 78, 66, 11, 30, 27,\n",
       "       41, 62, 21, 95,  9, 28, 71, 74, 18, 15, 39, 51, 49, 74, 57, 43, 25,\n",
       "       17, 36, 81, 91, 58, 94, 55, 40, 55,  8, 94, 97, 99, 72, 91, 96,  1,\n",
       "        6, 63,  4, 54,  3, 21, 73, 23, 20, 20, 78, 23,  9, 10, 59, 41, 22,\n",
       "       76, 86, 17, 19, 96, 97, 53, 88, 99,  0, 80, 36, 58, 24, 97, 28, 28,\n",
       "       89, 59, 79, 42, 93, 22, 89, 72, 56, 12, 39, 48, 25, 15, 63, 13, 83,\n",
       "       73, 57, 91, 63, 34, 81,  2, 62, 45, 78, 82, 87, 37, 20,  6, 43, 16,\n",
       "       86, 79, 75, 86, 17, 47, 33, 47, 24, 33, 22, 12, 71, 57, 79, 59, 41,\n",
       "       26,  6, 40, 81, 31, 19, 80, 37,  1, 10, 46,  1, 35, 25, 20, 62, 27,\n",
       "       88, 81, 33, 17,  8, 42, 68,  6, 84, 55, 17,  4, 41, 27, 87, 47,  1,\n",
       "       38,  5, 40, 17, 98, 51, 86, 32, 24, 54, 73, 95, 48, 81, 70, 10, 14,\n",
       "       87, 97, 85, 77, 33, 58,  1, 23, 85, 48, 72, 37, 52, 68, 17, 64, 64,\n",
       "       91, 39, 60, 90,  1,  6, 74, 90, 52, 76, 78, 65, 76, 45, 32, 67, 13,\n",
       "       45, 70,  0, 24, 47, 19, 46, 84, 56, 65, 88, 74, 40, 38, 27, 70,  6,\n",
       "        2, 75, 57, 52, 84, 58, 35, 93, 70, 54, 12, 27, 15, 53, 37, 91, 46,\n",
       "       98, 58, 79,  5, 24, 97, 11, 68,  6, 49, 80, 51, 11, 26, 77, 92, 99,\n",
       "       43, 99, 35, 52, 55, 55, 85, 11, 74, 38, 87, 58, 53, 30, 40, 26, 35,\n",
       "       70, 57, 59,  5, 43, 18, 53, 96,  9, 14, 27, 67, 78, 25, 46, 56, 90,\n",
       "       67, 90, 92, 21, 54, 24, 96])"
      ]
     },
     "execution_count": 19,
     "metadata": {},
     "output_type": "execute_result"
    }
   ],
   "source": [
    "#generating a random 500 quantity of numbers between 0 and 100:\n",
    "numbers = np.random.randint(0, high=100, size=500)\n",
    "numbers"
   ]
  },
  {
   "cell_type": "code",
   "execution_count": 20,
   "metadata": {},
   "outputs": [
    {
     "data": {
      "text/plain": [
       "ModeResult(mode=array([6]), count=array([11]))"
      ]
     },
     "execution_count": 20,
     "metadata": {},
     "output_type": "execute_result"
    }
   ],
   "source": [
    "#let's see which is the most frequent one in that narray:\n",
    "from scipy import stats\n",
    "stats.mode(numbers) #count = va"
   ]
  }
 ],
 "metadata": {
  "kernelspec": {
   "display_name": "Python 3",
   "language": "python",
   "name": "python3"
  },
  "language_info": {
   "codemirror_mode": {
    "name": "ipython",
    "version": 3
   },
   "file_extension": ".py",
   "mimetype": "text/x-python",
   "name": "python",
   "nbconvert_exporter": "python",
   "pygments_lexer": "ipython3",
   "version": "3.7.3"
  }
 },
 "nbformat": 4,
 "nbformat_minor": 2
}
