{
 "cells": [
  {
   "cell_type": "markdown",
   "metadata": {},
   "source": [
    "É meu desvio padrão que ditará o quão \"suave\" é a curva de distribuição de valores:\n",
    "- desvio padrão alto implica numa curva amena, já um baixo, em uma estreita. Isso ocorre porque o intervalo entre o valor centrado +- o desvio padrão é aquele que abrange a maior quantidade de dados do espaço amostral."
   ]
  },
  {
   "cell_type": "code",
   "execution_count": 45,
   "metadata": {},
   "outputs": [
    {
     "data": {
      "image/png": "[encoded data removed]",
      "text/plain": [
       "<Figure size 432x288 with 1 Axes>"
      ]
     },
     "metadata": {
      "needs_background": "light"
     },
     "output_type": "display_data"
    }
   ],
   "source": [
    "%matplotlib inline\n",
    "import numpy as np\n",
    "import matplotlib.pyplot as plt\n",
    "\n",
    "#gerando dados aleatórios com os seguintes parâmetros : (onde_estão_centrados, desvio_padrão, qtd_pontos)\n",
    "conjunto_dados = np.random.normal(500, 10, 10000)\n",
    "\n",
    "#bins=número de barras/pontas\n",
    "plt.hist(conjunto_dados, bins=250, density=True, histtype='bar')\n",
    "plt.show()"
   ]
  },
  {
   "cell_type": "code",
   "execution_count": 46,
   "metadata": {},
   "outputs": [
    {
     "data": {
      "text/plain": [
       "9.882058842530725"
      ]
     },
     "execution_count": 46,
     "metadata": {},
     "output_type": "execute_result"
    }
   ],
   "source": [
    "#o desvio padrão do meu conjunto de dados\n",
    "conjunto_dados.std()"
   ]
  },
  {
   "cell_type": "code",
   "execution_count": 47,
   "metadata": {},
   "outputs": [
    {
     "data": {
      "text/plain": [
       "97.6550869672397"
      ]
     },
     "execution_count": 47,
     "metadata": {},
     "output_type": "execute_result"
    }
   ],
   "source": [
    "#variância do meu conjunto de dados (gerados aleatoriamente)\n",
    "conjunto_dados.var()"
   ]
  },
  {
   "cell_type": "markdown",
   "metadata": {},
   "source": [
    "*NOTE*: o desvio padrão e variância estão condizentes com o segundo parâmetro que escolhemos no metodo np.random.normal()!"
   ]
  }
 ],
 "metadata": {
  "kernelspec": {
   "display_name": "Python 3",
   "language": "python",
   "name": "python3"
  },
  "language_info": {
   "codemirror_mode": {
    "name": "ipython",
    "version": 3
   },
   "file_extension": ".py",
   "mimetype": "text/x-python",
   "name": "python",
   "nbconvert_exporter": "python",
   "pygments_lexer": "ipython3",
   "version": "3.7.3"
  }
 },
 "nbformat": 4,
 "nbformat_minor": 2
}
