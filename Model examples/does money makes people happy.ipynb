{
 "cells": [
  {
   "cell_type": "markdown",
   "metadata": {},
   "source": [
    "#### reference from where it came:https://github.com/ageron/handson-ml2/blob/master/01_the_machine_learning_landscape.ipynb"
   ]
  },
  {
   "cell_type": "code",
   "execution_count": 1,
   "metadata": {},
   "outputs": [],
   "source": [
    "#for this we'll need a Python >= 3.5\n",
    "import sys\n",
    "assert sys.version_info >= (3,5) #with a comma and not a point as usual"
   ]
  },
  {
   "cell_type": "code",
   "execution_count": 2,
   "metadata": {},
   "outputs": [],
   "source": [
    "#for this we'll need a Scikit-Learn >= 0.20 \n",
    "import sklearn\n",
    "assert sklearn.__version__ >= '0.2'"
   ]
  },
  {
   "cell_type": "markdown",
   "metadata": {},
   "source": [
    "merging the two columns that we want to merge to start working on a proper dataframe. The two columns are:\n",
    "OECD's life satisfaction and IMF's GDP per capita."
   ]
  },
  {
   "cell_type": "code",
   "execution_count": 3,
   "metadata": {},
   "outputs": [],
   "source": [
    "%matplotlib inline\n",
    "import matplotlib.pyplot as plt\n",
    "import numpy as np\n",
    "import pandas as pd\n",
    "import sklearn.linear_model"
   ]
  },
  {
   "cell_type": "code",
   "execution_count": 4,
   "metadata": {},
   "outputs": [],
   "source": [
    "#loading the data\n",
    "oecd_bli = pd.read_csv('https://raw.githubusercontent.com/ageron/handson-ml2/master/datasets/lifesat/oecd_bli_2015.csv', thousands=',')\n",
    "gdp_per_capita = pd.read_csv('https://raw.githubusercontent.com/ageron/handson-ml2/master/datasets/lifesat/gdp_per_capita.csv',\n",
    "                            thousands=',', delimiter='\\t', encoding='latin1', na_values='n/a')"
   ]
  },
  {
   "cell_type": "code",
   "execution_count": 5,
   "metadata": {},
   "outputs": [],
   "source": [
    "#creating the proper function that we'll return a dataframe that we'll work\n",
    "def prepare_country_stats(oecd_bli, gdp_per_capita):\n",
    "    oecd_bli = oecd_bli[oecd_bli['INEQUALITY'] == 'TOT'] #new dataframe where the lines have only TOT values in INEQUALITY\n",
    "    oecd_bli = oecd_bli.pivot(index='Country', columns='Indicator', values='Value') #reshape my dataframe to a new one, changing the indexes, columns and data distribution\n",
    "    gdp_per_capita.rename(columns={'2015': 'GDP per capita'}, inplace=True) #changing the name of my previous GDP column to a proper one\n",
    "    gdp_per_capita.set_index('Country', inplace=True) #re-indexing my dataframe using now the name of the countries\n",
    "    #creating my new dataframe to be return in this function\n",
    "    full_country_stats = pd.merge(left=oecd_bli, right=gdp_per_capita, left_index=True, right_index=True) #merge the two dataframes mainting their indexes\n",
    "    full_country_stats.sort_values(by='GDP per capita', inplace=True) #lines will be sorted in a crescent way by it's GDP value\n",
    "    #removing some countries of our new dataframe\n",
    "    remove_indices = [0, 1, 6, 8, 33, 34, 35]\n",
    "    keep_indices = list(set(range(36)) - set(remove_indices)) #subtracting the indices from the total set of indeces\n",
    "    \n",
    "    return full_country_stats[['GDP per capita', 'Life satisfaction']].iloc[keep_indices]"
   ]
  },
  {
   "cell_type": "code",
   "execution_count": 6,
   "metadata": {},
   "outputs": [],
   "source": [
    "#creating the working dataframe\n",
    "country_stats = prepare_country_stats(oecd_bli, gdp_per_capita) "
   ]
  },
  {
   "cell_type": "code",
   "execution_count": 7,
   "metadata": {},
   "outputs": [],
   "source": [
    "#preparing the data for the model and NOT THE PLOTTING\n",
    "x = np.c_[country_stats['GDP per capita']]\n",
    "y = np.c_[country_stats['Life satisfaction']]"
   ]
  },
  {
   "cell_type": "code",
   "execution_count": 8,
   "metadata": {},
   "outputs": [
    {
     "data": {
      "image/png": "[encoded data removed]",
      "text/plain": [
       "<Figure size 432x288 with 1 Axes>"
      ]
     },
     "metadata": {
      "needs_background": "light"
     },
     "output_type": "display_data"
    }
   ],
   "source": [
    "#finally visualizing the data\n",
    "country_stats.plot(kind='scatter', x='GDP per capita', y='Life satisfaction')\n",
    "plt.show()"
   ]
  },
  {
   "cell_type": "code",
   "execution_count": 9,
   "metadata": {},
   "outputs": [],
   "source": [
    "#selecting a linear model for our analysis\n",
    "model = sklearn.linear_model.LinearRegression()"
   ]
  },
  {
   "cell_type": "code",
   "execution_count": 10,
   "metadata": {},
   "outputs": [
    {
     "data": {
      "text/plain": [
       "LinearRegression(copy_X=True, fit_intercept=True, n_jobs=None, normalize=False)"
      ]
     },
     "execution_count": 10,
     "metadata": {},
     "output_type": "execute_result"
    }
   ],
   "source": [
    "#training our recently created model\n",
    "model.fit(x, y)"
   ]
  },
  {
   "cell_type": "code",
   "execution_count": 11,
   "metadata": {},
   "outputs": [
    {
     "name": "stdout",
     "output_type": "stream",
     "text": [
      "[[5.96242338]]\n"
     ]
    }
   ],
   "source": [
    "#making now a prediction from a untrained value of data (in this case, Cyprus' GDP)\n",
    "x_new = [[22587]] #that's the value of Cyprus' GDP per capita\n",
    "print(model.predict(x_new)) #this would be our Life satisfaction value prediction for this country"
   ]
  },
  {
   "cell_type": "code",
   "execution_count": 12,
   "metadata": {},
   "outputs": [
    {
     "data": {
      "text/plain": [
       "<matplotlib.collections.PathCollection at 0x2125afb6b38>"
      ]
     },
     "execution_count": 12,
     "metadata": {},
     "output_type": "execute_result"
    },
    {
     "data": {
      "image/png": "[encoded data removed]",
      "text/plain": [
       "<Figure size 432x288 with 1 Axes>"
      ]
     },
     "metadata": {
      "needs_background": "light"
     },
     "output_type": "display_data"
    }
   ],
   "source": [
    "#visualizing this prediction\n",
    "plt.scatter(x, y, color='blue')\n",
    "plt.scatter(x_new, model.predict(x_new), color='red')"
   ]
  }
 ],
 "metadata": {
  "kernelspec": {
   "display_name": "Python 3",
   "language": "python",
   "name": "python3"
  },
  "language_info": {
   "codemirror_mode": {
    "name": "ipython",
    "version": 3
   },
   "file_extension": ".py",
   "mimetype": "text/x-python",
   "name": "python",
   "nbconvert_exporter": "python",
   "pygments_lexer": "ipython3",
   "version": "3.7.3"
  }
 },
 "nbformat": 4,
 "nbformat_minor": 2
}
